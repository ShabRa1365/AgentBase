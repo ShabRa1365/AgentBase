{
 "cells": [
  {
   "cell_type": "code",
   "execution_count": 1,
   "metadata": {},
   "outputs": [],
   "source": [
    "import numpy as np\n",
    "import math\n",
    "import random\n",
    "import matplotlib.pyplot as plt\n"
   ]
  },
  {
   "cell_type": "code",
   "execution_count": 2,
   "metadata": {},
   "outputs": [],
   "source": [
    "plt.close()\n",
    "\n",
    "N=40\n",
    "M=40\n",
    "e=20 #empty percent\n",
    "n_race=3 #number of races\n",
    "empties=[]\n",
    "\n",
    "agents=np.random.random((N,M))\n"
   ]
  },
  {
   "cell_type": "code",
   "execution_count": 3,
   "metadata": {},
   "outputs": [],
   "source": [
    "def race_up(n,agents):\n",
    "    \n",
    "    for i in range(N):\n",
    "        for j in range(M):\n",
    "            agents[i,j]=math.floor(n*agents[i,j])+1      \n",
    "    return agents\n",
    "\n",
    "def empty_up(e,agents):\n",
    "    \n",
    "    for i in range(int(round(e*N*M/100.0))):\n",
    "        a,b=random.choice(range(N)),random.choice(range(M))\n",
    "        empties.append([a,b])\n",
    "        agents[a,b]=0\n",
    "        \n",
    "    return agents,empties"
   ]
  },
  {
   "cell_type": "code",
   "execution_count": 4,
   "metadata": {},
   "outputs": [
    {
     "data": {
      "image/png": "[encoded data removed]",
      "text/plain": [
       "<Figure size 864x360 with 2 Axes>"
      ]
     },
     "metadata": {},
     "output_type": "display_data"
    }
   ],
   "source": [
    "\n",
    "#___________________________________________\n",
    "neixy=np.array([[-1,1],[0,1],[1,1],[-1,0],[1,0],[-1,-1],[0,-1],[1,-1]])\n",
    "\n",
    "def neibs(i,j):\n",
    "    neibs=[]\n",
    "    neib=neixy+np.array([i,j])\n",
    "    for i in neib :\n",
    "        if -1<i[0]<N and -1<i[1]<M : neibs.append(list(i))\n",
    "    return list(neibs)\n",
    "    \n",
    "def is_happy(i,j):\n",
    "    neighbours=[int(agents[i,j])]\n",
    "    for k in neibs(i,j):\n",
    "        neighbours.append(int(agents[k[0],k[1]]))\n",
    "    #print(neighbours)\n",
    "    race_slice=(neighbours.count(int(agents[i,j])))/float(len(neighbours)-neighbours.count(0))\n",
    "    \n",
    "    if neighbours.count(0)>0:\n",
    "        dominancy=1.0/(len(set(neighbours))-1)#+1-neighbours.count(0)) # 1 over number of unique races in the neibourhood minus the empty houses\n",
    "    else: \n",
    "        dominancy=1.0/(len(set(neighbours)))\n",
    "    if race_slice>dominancy : return True\n",
    "    else: return False\n",
    "\n",
    "\n",
    "\n",
    "race_up(n_race,agents)\n",
    "empty_up(e,agents)\n",
    "\n",
    "fig, axs = plt.subplots(1, 2, figsize=(12, 5), sharey=True)\n",
    "axs[0].pcolor(agents)\n",
    "axs[0].set_title('Original')\n",
    "\n",
    "\n",
    "def happiness_score():\n",
    "    trues=0\n",
    "    for i in range(N):\n",
    "        for j in range(M):\n",
    "            #print (i,j,agents[i,j], is_happy(i,j))\n",
    "            \n",
    "            if int(agents[i,j])!=0 and is_happy(i,j) : trues+=1#;print(trues)\n",
    "    return 100*float(trues)/(M*N-round(e*N*M/100.0))\n",
    "        \n",
    "        \n",
    "def move(i,j):\n",
    "    new_address=random.choice(empties)\n",
    "    agents[new_address[0],new_address[1]]=agents[i,j]\n",
    "    agents[i,j]=0\n",
    "    empties.append([i,j])\n",
    "    empties.remove(new_address)\n",
    "    \n",
    "\n",
    "\n",
    "while happiness_score() <80.0:\n",
    "    #print agents, '  |happiness score',\n",
    "    #print(happiness_score())\n",
    "    for i in range(N):\n",
    "        for j in range(M):\n",
    "            if agents[i,j]!=0:\n",
    "                if is_happy(i,j): pass\n",
    "                else : move(i,j)\n",
    "\n",
    "axs[1].pcolor(agents)\n",
    "axs[1].set_title('Happier')\n",
    "fig.suptitle('Improved Happiness Score: '+str(happiness_score()))\n",
    "\n",
    "plt.show()"
   ]
  },
  {
   "cell_type": "code",
   "execution_count": null,
   "metadata": {},
   "outputs": [],
   "source": []
  },
  {
   "cell_type": "code",
   "execution_count": null,
   "metadata": {},
   "outputs": [],
   "source": []
  }
 ],
 "metadata": {
  "kernelspec": {
   "display_name": "Python 3",
   "language": "python",
   "name": "python3"
  },
  "language_info": {
   "codemirror_mode": {
    "name": "ipython",
    "version": 3
   },
   "file_extension": ".py",
   "mimetype": "text/x-python",
   "name": "python",
   "nbconvert_exporter": "python",
   "pygments_lexer": "ipython3",
   "version": "3.6.5"
  }
 },
 "nbformat": 4,
 "nbformat_minor": 2
}
